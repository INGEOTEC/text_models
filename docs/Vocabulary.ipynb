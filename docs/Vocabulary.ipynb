{
 "cells": [
  {
   "cell_type": "markdown",
   "metadata": {
    "colab_type": "text",
    "id": "pNffx9rfKLVk"
   },
   "source": [
    "# Vocabulary's Quickstart Guide\n",
    "## colab.research.google.com\n",
    "### Mario Graff\n",
    "#### ingeotec.mx"
   ]
  },
  {
   "cell_type": "markdown",
   "metadata": {
    "colab_type": "text",
    "id": "4hcGcrjTRj3d"
   },
   "source": [
    "## Steps to install text_models"
   ]
  },
  {
   "cell_type": "code",
   "execution_count": null,
   "metadata": {
    "colab": {
     "base_uri": "https://localhost:8080/",
     "height": 938
    },
    "colab_type": "code",
    "id": "3aPP0CqWZ8VK",
    "outputId": "269b0645-83ae-4496-9b76-9a0ba7f857da"
   },
   "outputs": [],
   "source": [
    "!pip install sparsearray\n",
    "!pip install evodag\n",
    "!pip install microtc>=2.2.0\n",
    "!pip install evomsa\n",
    "!pip install text_models"
   ]
  },
  {
   "cell_type": "markdown",
   "metadata": {
    "colab_type": "text",
    "id": "sJ01HWP0Ru-8"
   },
   "source": [
    "## Vocabulary"
   ]
  },
  {
   "cell_type": "code",
   "execution_count": null,
   "metadata": {
    "colab": {},
    "colab_type": "code",
    "id": "vkHj2qNeeCpU"
   },
   "outputs": [],
   "source": [
    "from text_models.vocabulary import Vocabulary"
   ]
  },
  {
   "cell_type": "code",
   "execution_count": null,
   "metadata": {
    "colab": {},
    "colab_type": "code",
    "id": "2YZrP1J0TVL4"
   },
   "outputs": [],
   "source": [
    "voc = Vocabulary(\"191224.voc\", lang=\"En\")"
   ]
  },
  {
   "cell_type": "code",
   "execution_count": null,
   "metadata": {
    "colab": {
     "base_uri": "https://localhost:8080/",
     "height": 68
    },
    "colab_type": "code",
    "id": "PNsPzwG2Tai1",
    "outputId": "0be5e9bd-afdd-4d10-efeb-383093a5e929"
   },
   "outputs": [],
   "source": [
    "!pip install wordcloud"
   ]
  },
  {
   "cell_type": "code",
   "execution_count": null,
   "metadata": {
    "colab": {
     "base_uri": "https://localhost:8080/",
     "height": 215
    },
    "colab_type": "code",
    "id": "SGusZnAZTcg6",
    "outputId": "8d10c660-5204-480c-db57-173247c617e4"
   },
   "outputs": [],
   "source": [
    "%pylab inline\n",
    "def cloud(data):\n",
    "  from wordcloud import WordCloud\n",
    "  word_cloud = WordCloud().generate_from_frequencies(data.voc)\n",
    "  plt.imshow(word_cloud, interpolation='bilinear')\n",
    "  plt.axis(\"off\")\n",
    "cloud(voc)"
   ]
  },
  {
   "cell_type": "code",
   "execution_count": null,
   "metadata": {
    "colab": {
     "base_uri": "https://localhost:8080/",
     "height": 198
    },
    "colab_type": "code",
    "id": "IMtL_8wQUMa5",
    "outputId": "61abb11f-3896-4bf9-8df5-d92df96535b7"
   },
   "outputs": [],
   "source": [
    "voc.remove_qgrams()\n",
    "cloud(voc)"
   ]
  },
  {
   "cell_type": "code",
   "execution_count": null,
   "metadata": {
    "colab": {
     "base_uri": "https://localhost:8080/",
     "height": 198
    },
    "colab_type": "code",
    "id": "2MfyKj_yUdTy",
    "outputId": "4d9809d1-2686-48c3-f936-bfde6ba6a98d"
   },
   "outputs": [],
   "source": [
    "voc.remove(voc.common_words())\n",
    "cloud(voc)"
   ]
  },
  {
   "cell_type": "code",
   "execution_count": null,
   "metadata": {
    "colab": {
     "base_uri": "https://localhost:8080/",
     "height": 198
    },
    "colab_type": "code",
    "id": "TSOmIxzNXapY",
    "outputId": "a4a2215c-45c9-4558-9098-25aee34af44b"
   },
   "outputs": [],
   "source": [
    "voc.remove(voc.day_words())\n",
    "cloud(voc)"
   ]
  },
  {
   "cell_type": "code",
   "execution_count": null,
   "metadata": {
    "colab": {
     "base_uri": "https://localhost:8080/",
     "height": 198
    },
    "colab_type": "code",
    "id": "5rVy5ap4U4-r",
    "outputId": "f8c041d0-e4c3-4509-d629-908a2a4bd2df"
   },
   "outputs": [],
   "source": [
    "next = Vocabulary(\"191225.voc\", lang=\"En\")\n",
    "next.remove_qgrams()\n",
    "next.remove(next.common_words())\n",
    "next.remove(next.day_words())\n",
    "cloud(next)"
   ]
  },
  {
   "cell_type": "code",
   "execution_count": null,
   "metadata": {
    "colab": {
     "base_uri": "https://localhost:8080/",
     "height": 198
    },
    "colab_type": "code",
    "id": "LdfqGwEFVVu7",
    "outputId": "d1b4bfb9-185a-4de1-cb83-a1dd3a4d9ed9"
   },
   "outputs": [],
   "source": [
    "next.remove(voc.voc)\n",
    "cloud(next)"
   ]
  },
  {
   "cell_type": "markdown",
   "metadata": {
    "colab_type": "text",
    "id": "4EdoAfrSYe5K"
   },
   "source": [
    "# Create Text Model"
   ]
  },
  {
   "cell_type": "code",
   "execution_count": null,
   "metadata": {
    "colab": {},
    "colab_type": "code",
    "id": "H693wfDzYgTN"
   },
   "outputs": [],
   "source": [
    "from text_models.utils import download\n",
    "from microtc.utils import tweet_iterator\n",
    "\n",
    "data = list(tweet_iterator(download(\"data.json\")))[0]"
   ]
  },
  {
   "cell_type": "code",
   "execution_count": null,
   "metadata": {
    "colab": {},
    "colab_type": "code",
    "id": "OoQnZqeeYvQc"
   },
   "outputs": [],
   "source": [
    "english = data[\"En\"]"
   ]
  },
  {
   "cell_type": "code",
   "execution_count": null,
   "metadata": {
    "colab": {
     "base_uri": "https://localhost:8080/",
     "height": 34
    },
    "colab_type": "code",
    "id": "19eEgFsNYwiG",
    "outputId": "d8ac744f-af53-4cda-ee0c-fdc027f0a8cf"
   },
   "outputs": [],
   "source": [
    "english.sort()\n",
    "english[-1]"
   ]
  },
  {
   "cell_type": "code",
   "execution_count": null,
   "metadata": {
    "colab": {},
    "colab_type": "code",
    "id": "tfLxNnW7Y0Ol"
   },
   "outputs": [],
   "source": [
    "voc = Vocabulary(english[-5:], lang=\"En\")"
   ]
  },
  {
   "cell_type": "code",
   "execution_count": null,
   "metadata": {
    "colab": {},
    "colab_type": "code",
    "id": "QO5tEfFlZCF1"
   },
   "outputs": [],
   "source": [
    "tm = voc.create_text_model()"
   ]
  },
  {
   "cell_type": "code",
   "execution_count": null,
   "metadata": {
    "colab": {
     "base_uri": "https://localhost:8080/",
     "height": 187
    },
    "colab_type": "code",
    "id": "kkC7yyuZZGb5",
    "outputId": "87bde862-9bbe-4f5f-bcc5-df11cbd65335"
   },
   "outputs": [],
   "source": [
    "k = list(tm.model.word2id.keys())\n",
    "k.sort()\n",
    "k[:10]"
   ]
  }
 ],
 "metadata": {
  "colab": {
   "collapsed_sections": [],
   "name": "Quickstart.ipynb",
   "provenance": []
  },
  "kernelspec": {
   "display_name": "Python 3",
   "language": "python",
   "name": "python3"
  },
  "language_info": {
   "codemirror_mode": {
    "name": "ipython",
    "version": 3
   },
   "file_extension": ".py",
   "mimetype": "text/x-python",
   "name": "python",
   "nbconvert_exporter": "python",
   "pygments_lexer": "ipython3",
   "version": "3.7.6"
  }
 },
 "nbformat": 4,
 "nbformat_minor": 4
}
